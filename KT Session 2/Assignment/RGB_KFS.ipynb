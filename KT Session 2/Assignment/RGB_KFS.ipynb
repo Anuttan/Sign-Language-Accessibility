{
 "cells": [
  {
   "cell_type": "markdown",
   "metadata": {},
   "source": [
    "<h3><center>Task -2 </center><h3>"
   ]
  },
  {
   "cell_type": "code",
   "execution_count": 79,
   "metadata": {},
   "outputs": [],
   "source": [
    "# Importing the libraries\n",
    "\n",
    "import numpy as np\n",
    "import matplotlib.pyplot as plt\n",
    "import seaborn as sns\n",
    "import json\n",
    "import mediapipe as mp\n",
    "import cv2\n",
    "import os"
   ]
  },
  {
   "cell_type": "code",
   "execution_count": 80,
   "metadata": {},
   "outputs": [],
   "source": [
    "# Initializing the path to the input video\n",
    "\n",
    "input_path = \"../Sample_Videos/sample6.mp4\"\n",
    "video = cv2.VideoCapture(input_path)\n",
    "video_name = os.path.split(input_path)[1]"
   ]
  },
  {
   "cell_type": "markdown",
   "metadata": {},
   "source": [
    "This function takes the input path as argument and outputs 4 centroid values as dictionary"
   ]
  },
  {
   "cell_type": "code",
   "execution_count": 81,
   "metadata": {},
   "outputs": [],
   "source": [
    "# Function to get the centroid of the object\n",
    "def find_centroid(input_path):\n",
    "    cap = cv2.VideoCapture(input_path)\n",
    "    centroid = {}\n",
    "\n",
    "    mp_pose = mp.solutions.pose\n",
    "    pose = mp_pose.Pose()\n",
    "\n",
    "    # Initializing the variables\n",
    "    right_centroid_x = []\n",
    "    right_centroid_y = []\n",
    "    left_centroid_x = []\n",
    "    left_centroid_y = []\n",
    "\n",
    "    while cap.isOpened():\n",
    "        ret, frame = cap.read()\n",
    "        if ret:\n",
    "            frame = cv2.cvtColor(frame, cv2.COLOR_BGR2RGB)\n",
    "            results_pose = pose.process(frame)\n",
    "\n",
    "            right_centroid_x_frames = []\n",
    "            right_centroid_y_frames = []\n",
    "            left_centroid_x_frames = []\n",
    "            left_centroid_y_frames = []\n",
    "                \n",
    "            # Pose values\n",
    "            right = [16, 18, 20, 22]\n",
    "            left = [15, 17, 19, 21]\n",
    "\n",
    "            # Getting the centroid of the right hand\n",
    "            for i in (right):\n",
    "                right_centroid_x_frames.append(round(results_pose.pose_landmarks.landmark[i].x * frame.shape[1], 2))\n",
    "                right_centroid_y_frames.append(round(results_pose.pose_landmarks.landmark[i].y * frame.shape[0], 2))\n",
    "\n",
    "            # Getting the centroid of the left hand\n",
    "            for i in (left):\n",
    "                left_centroid_x_frames.append(round(results_pose.pose_landmarks.landmark[i].x * frame.shape[1], 2))\n",
    "                left_centroid_y_frames.append(round(results_pose.pose_landmarks.landmark[i].y * frame.shape[0], 2))\n",
    "\n",
    "            # Appending the centroid to the list\n",
    "            right_centroid_x.append(round(np.mean(right_centroid_x_frames), 2))\n",
    "            right_centroid_y.append(round(np.mean(right_centroid_y_frames), 2))\n",
    "            left_centroid_x.append(round(np.mean(left_centroid_x_frames), 2))\n",
    "            left_centroid_y.append(round(np.mean(left_centroid_y_frames), 2))\n",
    "        \n",
    "        else:\n",
    "            break\n",
    "\n",
    "    cap.release()\n",
    "    centroid[\"right_centroid_x\"] = right_centroid_x\n",
    "    centroid[\"right_centroid_y\"] = right_centroid_y\n",
    "    centroid[\"left_centroid_x\"] = left_centroid_x\n",
    "    centroid[\"left_centroid_y\"] = left_centroid_y\n",
    "\n",
    "    return centroid"
   ]
  },
  {
   "cell_type": "code",
   "execution_count": 82,
   "metadata": {},
   "outputs": [],
   "source": [
    "# Taking all values into dictionary\n",
    "centroid = find_centroid(input_path)"
   ]
  },
  {
   "cell_type": "code",
   "execution_count": 83,
   "metadata": {},
   "outputs": [],
   "source": [
    "def euclidean_distance(x1, y1, x2, y2):\n",
    "    return np.sqrt((x1-x2)**2 + (y1-y2)**2)"
   ]
  },
  {
   "cell_type": "code",
   "execution_count": 84,
   "metadata": {},
   "outputs": [],
   "source": [
    "# Function to get the hand distance\n",
    "hand_distance = []\n",
    "no_of_frames = len(centroid[\"right_centroid_x\"])\n",
    "\n",
    "for i in range(no_of_frames-1):\n",
    "    right_dist = euclidean_distance(centroid[\"right_centroid_x\"][i], centroid[\"right_centroid_x\"][i+1], centroid[\"right_centroid_y\"][i], centroid[\"right_centroid_y\"][i+1])\n",
    "    left_dist = euclidean_distance(centroid[\"left_centroid_x\"][i], centroid[\"left_centroid_x\"][i+1], centroid[\"left_centroid_y\"][i], centroid[\"left_centroid_y\"][i+1])\n",
    "    hand_distance.append(max(right_dist, left_dist))\n",
    "\n",
    "# print(hand_distance)"
   ]
  },
  {
   "cell_type": "code",
   "execution_count": 85,
   "metadata": {},
   "outputs": [],
   "source": [
    "# Function to get the hand height\n",
    "hand_height = []\n",
    "\n",
    "for i in range(no_of_frames):\n",
    "    hand_height.append(min(centroid[\"right_centroid_y\"][i],centroid[\"left_centroid_y\"][i]))\n",
    "\n",
    "# print(hand_height)"
   ]
  },
  {
   "cell_type": "markdown",
   "metadata": {},
   "source": [
    "To take the threashold, I calculated the value as Threashold = Mean - Standard Deviation"
   ]
  },
  {
   "cell_type": "code",
   "execution_count": 86,
   "metadata": {},
   "outputs": [
    {
     "data": {
      "image/png": "[encoded data removed]",
      "text/plain": [
       "<Figure size 576x396 with 1 Axes>"
      ]
     },
     "metadata": {},
     "output_type": "display_data"
    }
   ],
   "source": [
    "# Finding threashold for the hand distance\n",
    "with plt.style.context('seaborn'):\n",
    "    plt.scatter([i for i in range(no_of_frames-1)], hand_distance)\n",
    "    mean_hand_distance = np.mean(hand_distance) - np.std(hand_distance)\n",
    "    # Threshold = Mean - Standard Deviation\n",
    "    plt.plot([0, 262], [mean_hand_distance, mean_hand_distance])\n",
    "\n",
    "plt.ylabel(\"Hand Distance\")\n",
    "plt.xlabel(\"Frames\")\n",
    "plt.show()"
   ]
  },
  {
   "cell_type": "markdown",
   "metadata": {},
   "source": [
    "To take the threashold, I calculated the value as Threashold = Mean + Standard Deviation"
   ]
  },
  {
   "cell_type": "code",
   "execution_count": 87,
   "metadata": {},
   "outputs": [
    {
     "data": {
      "image/png": "[encoded data removed]",
      "text/plain": [
       "<Figure size 576x396 with 1 Axes>"
      ]
     },
     "metadata": {},
     "output_type": "display_data"
    }
   ],
   "source": [
    "# Finding threashold for the hand height\n",
    "with plt.style.context('seaborn'):\n",
    "    plt.scatter([i for i in range(no_of_frames)], hand_height)\n",
    "    mean_hand_height = np.mean(hand_height) + np.std(hand_height)\n",
    "    # Threashold = Mean + Standard Deviation\n",
    "    plt.plot([0, 262], [mean_hand_height, mean_hand_height])\n",
    "\n",
    "plt.ylabel(\"Hand Height\")\n",
    "plt.xlabel(\"Frames\")\n",
    "plt.show()\n"
   ]
  },
  {
   "cell_type": "markdown",
   "metadata": {},
   "source": [
    "Only when the hand distance is above threashold and hand height is below threashold, the frame will be accepted"
   ]
  },
  {
   "cell_type": "code",
   "execution_count": 88,
   "metadata": {},
   "outputs": [],
   "source": [
    "# Process the Output Video\n",
    "cap = cv2.VideoCapture(input_path)\n",
    "output_name = video_name.split(\".\")[0] + \"_output.mp4\"\n",
    "output_path = os.path.join(\"../Output/\"+video_name.split(\".\")[0]+\"/\", output_name)\n",
    "# print(output_path)\n",
    "out = cv2.VideoWriter(output_path, cv2.VideoWriter_fourcc('m', 'p', '4', 'v'), cap.get(cv2.CAP_PROP_FPS), (int(cap.get(cv2.CAP_PROP_FRAME_WIDTH)), int(cap.get(cv2.CAP_PROP_FRAME_HEIGHT))))\n",
    "\n",
    "output_frames = 0\n",
    "curr_frame = 0\n",
    "\n",
    "while(cap.isOpened()):\n",
    "    ret, frame = cap.read()\n",
    "    if ret:\n",
    "        if (hand_distance[curr_frame-1] > mean_hand_distance) and (hand_height[curr_frame] < mean_hand_height):\n",
    "            out.write(frame)\n",
    "            output_frames += 1\n",
    "        curr_frame += 1\n",
    "    else:\n",
    "        break\n",
    "    \n",
    "# print(output_frames)\n",
    "cap.release()"
   ]
  },
  {
   "cell_type": "code",
   "execution_count": 89,
   "metadata": {},
   "outputs": [],
   "source": [
    "# Create the Video Summary\n",
    "\n",
    "video_summary = {}\n",
    "video_summary[\"Filename\"] = video_name\n",
    "video_summary[\"Hand_Height\"] = hand_height\n",
    "video_summary[\"Hand_Distance\"] = hand_distance\n",
    "video_summary[\"Initial_Frame_Count\"] = no_of_frames\n",
    "video_summary[\"Post_KFS_Frame_Count\"] = output_frames\n",
    "video_summary[\"Percentage_Reduction\"] = round(((no_of_frames - output_frames)/no_of_frames)*100, 2)\n",
    "video_summary[\"Hand_Height_Threshold_Value\"] = mean_hand_height\n",
    "video_summary[\"Hand_Distance_Threshold_Value\"] = mean_hand_distance"
   ]
  },
  {
   "cell_type": "code",
   "execution_count": 90,
   "metadata": {},
   "outputs": [],
   "source": [
    "# Summary into the json file\n",
    "output_name_json = video_name.split(\".\")[0] + \"_output.json\"\n",
    "output_path_json = os.path.join(\"../Output/\"+video_name.split(\".\")[0]+\"/\", output_name_json)\n",
    "\n",
    "with open(output_path_json,\"w\") as w:\n",
    "    w.write(json.dumps(video_summary))"
   ]
  },
  {
   "cell_type": "code",
   "execution_count": 91,
   "metadata": {},
   "outputs": [
    {
     "name": "stdout",
     "output_type": "stream",
     "text": [
      "268 178 33.58\n"
     ]
    }
   ],
   "source": [
    "# For checking if the output video is correct\n",
    "print(video_summary[\"Initial_Frame_Count\"],video_summary[\"Post_KFS_Frame_Count\"], video_summary[\"Percentage_Reduction\"])"
   ]
  }
 ],
 "metadata": {
  "interpreter": {
   "hash": "8b03ff42de54528dde2df61b4530bfbc6a759ba91978c93d2141949106cdd053"
  },
  "kernelspec": {
   "display_name": "Python 3.8.8 ('base')",
   "language": "python",
   "name": "python3"
  },
  "language_info": {
   "codemirror_mode": {
    "name": "ipython",
    "version": 3
   },
   "file_extension": ".py",
   "mimetype": "text/x-python",
   "name": "python",
   "nbconvert_exporter": "python",
   "pygments_lexer": "ipython3",
   "version": "3.8.8"
  },
  "orig_nbformat": 4
 },
 "nbformat": 4,
 "nbformat_minor": 2
}
